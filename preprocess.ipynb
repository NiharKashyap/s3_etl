{
 "cells": [
  {
   "cell_type": "code",
   "execution_count": 1,
   "metadata": {},
   "outputs": [],
   "source": [
    "import pandas as pd"
   ]
  },
  {
   "cell_type": "code",
   "execution_count": 3,
   "metadata": {},
   "outputs": [],
   "source": [
    "json ={\n",
    "    \"job\": \"Theatre manager\",\n",
    "    \"company\": \"Saunders, Wilson and George\",\n",
    "    \"ssn\": \"432-96-0975\",\n",
    "    \"residence\": \"827 Jones Ridges\\nRyanmouth, IN 21698\",\n",
    "    \"blood_group\": \"O+\",\n",
    "    \"website\": [\n",
    "        \"http://www.cox.com/\",\n",
    "        \"http://www.coxa.com/\"\n",
    "    ],\n",
    "    \"username\": \"frostangela\",\n",
    "    \"name\": \"Douglas Berry\",\n",
    "    \"sex\": \"M\",\n",
    "    \"address\": \"2244 Chavez Meadow\\nNew Cheryl, VT 46404\",\n",
    "    \"mail\": \"christopherberg@hotmail.com\",\n",
    "    \"birthdate\": \"1927-02-06\"\n",
    "}\n"
   ]
  },
  {
   "cell_type": "code",
   "execution_count": 4,
   "metadata": {},
   "outputs": [],
   "source": [
    "\n",
    "flattended_data = pd.json_normalize(json)\n",
    "flattended_data = flattended_data.explode(\"website\").reset_index(drop=True)"
   ]
  },
  {
   "cell_type": "code",
   "execution_count": 7,
   "metadata": {},
   "outputs": [
    {
     "data": {
      "text/html": [
       "<div>\n",
       "<style scoped>\n",
       "    .dataframe tbody tr th:only-of-type {\n",
       "        vertical-align: middle;\n",
       "    }\n",
       "\n",
       "    .dataframe tbody tr th {\n",
       "        vertical-align: top;\n",
       "    }\n",
       "\n",
       "    .dataframe thead th {\n",
       "        text-align: right;\n",
       "    }\n",
       "</style>\n",
       "<table border=\"1\" class=\"dataframe\">\n",
       "  <thead>\n",
       "    <tr style=\"text-align: right;\">\n",
       "      <th></th>\n",
       "      <th>job</th>\n",
       "      <th>company</th>\n",
       "      <th>ssn</th>\n",
       "      <th>residence</th>\n",
       "      <th>blood_group</th>\n",
       "      <th>website</th>\n",
       "      <th>username</th>\n",
       "      <th>name</th>\n",
       "      <th>sex</th>\n",
       "      <th>address</th>\n",
       "      <th>mail</th>\n",
       "      <th>birthdate</th>\n",
       "    </tr>\n",
       "  </thead>\n",
       "  <tbody>\n",
       "    <tr>\n",
       "      <th>0</th>\n",
       "      <td>Theatre manager</td>\n",
       "      <td>Saunders, Wilson and George</td>\n",
       "      <td>432-96-0975</td>\n",
       "      <td>827 Jones Ridges\\nRyanmouth, IN 21698</td>\n",
       "      <td>O+</td>\n",
       "      <td>http://www.cox.com/</td>\n",
       "      <td>frostangela</td>\n",
       "      <td>Douglas Berry</td>\n",
       "      <td>M</td>\n",
       "      <td>2244 Chavez Meadow\\nNew Cheryl, VT 46404</td>\n",
       "      <td>christopherberg@hotmail.com</td>\n",
       "      <td>1927-02-06</td>\n",
       "    </tr>\n",
       "    <tr>\n",
       "      <th>1</th>\n",
       "      <td>Theatre manager</td>\n",
       "      <td>Saunders, Wilson and George</td>\n",
       "      <td>432-96-0975</td>\n",
       "      <td>827 Jones Ridges\\nRyanmouth, IN 21698</td>\n",
       "      <td>O+</td>\n",
       "      <td>http://www.coxa.com/</td>\n",
       "      <td>frostangela</td>\n",
       "      <td>Douglas Berry</td>\n",
       "      <td>M</td>\n",
       "      <td>2244 Chavez Meadow\\nNew Cheryl, VT 46404</td>\n",
       "      <td>christopherberg@hotmail.com</td>\n",
       "      <td>1927-02-06</td>\n",
       "    </tr>\n",
       "  </tbody>\n",
       "</table>\n",
       "</div>"
      ],
      "text/plain": [
       "               job                      company          ssn  \\\n",
       "0  Theatre manager  Saunders, Wilson and George  432-96-0975   \n",
       "1  Theatre manager  Saunders, Wilson and George  432-96-0975   \n",
       "\n",
       "                               residence blood_group               website  \\\n",
       "0  827 Jones Ridges\\nRyanmouth, IN 21698          O+   http://www.cox.com/   \n",
       "1  827 Jones Ridges\\nRyanmouth, IN 21698          O+  http://www.coxa.com/   \n",
       "\n",
       "      username           name sex                                   address  \\\n",
       "0  frostangela  Douglas Berry   M  2244 Chavez Meadow\\nNew Cheryl, VT 46404   \n",
       "1  frostangela  Douglas Berry   M  2244 Chavez Meadow\\nNew Cheryl, VT 46404   \n",
       "\n",
       "                          mail   birthdate  \n",
       "0  christopherberg@hotmail.com  1927-02-06  \n",
       "1  christopherberg@hotmail.com  1927-02-06  "
      ]
     },
     "execution_count": 7,
     "metadata": {},
     "output_type": "execute_result"
    }
   ],
   "source": [
    "flattended_data"
   ]
  },
  {
   "cell_type": "code",
   "execution_count": 6,
   "metadata": {},
   "outputs": [],
   "source": [
    "flattended_data = flattended_data.explode(\"residence\").reset_index(drop=True)"
   ]
  },
  {
   "cell_type": "code",
   "execution_count": 8,
   "metadata": {},
   "outputs": [],
   "source": [
    "from faker import Faker"
   ]
  },
  {
   "cell_type": "code",
   "execution_count": 9,
   "metadata": {},
   "outputs": [],
   "source": [
    "faker = Faker()"
   ]
  },
  {
   "cell_type": "code",
   "execution_count": 12,
   "metadata": {},
   "outputs": [
    {
     "data": {
      "text/plain": [
       "'http://www.owen.com/'"
      ]
     },
     "execution_count": 12,
     "metadata": {},
     "output_type": "execute_result"
    }
   ],
   "source": [
    "faker.url()"
   ]
  },
  {
   "cell_type": "code",
   "execution_count": 17,
   "metadata": {},
   "outputs": [],
   "source": [
    "profile = {\n",
    "    'website':'some'\n",
    "}"
   ]
  },
  {
   "cell_type": "code",
   "execution_count": 18,
   "metadata": {},
   "outputs": [],
   "source": [
    "profile['website'] = [faker.url() for i in range(faker.random_int(min=1, max=5))]"
   ]
  },
  {
   "cell_type": "code",
   "execution_count": 19,
   "metadata": {},
   "outputs": [
    {
     "data": {
      "text/plain": [
       "{'website': ['https://crawford-freeman.com/',\n",
       "  'http://www.wiggins.com/',\n",
       "  'http://www.johnson-bonilla.net/']}"
      ]
     },
     "execution_count": 19,
     "metadata": {},
     "output_type": "execute_result"
    }
   ],
   "source": [
    "profile"
   ]
  },
  {
   "cell_type": "code",
   "execution_count": 6,
   "metadata": {},
   "outputs": [
    {
     "name": "stdout",
     "output_type": "stream",
     "text": [
      "[('Sales', 'Tata', '1234', 'Jorhat', 'A+        ', 'www.abc.com                                                                                                                                                                                                                                                    ', 'Niha21', 'M', 'Malow Ali ', 'niha@gmail.com', '2021-09-08', None, None), ('Theatre manager', 'Saunders, Wilson and George', '432-96-0975', '827 Jones Ridges\\nRyanmouth, IN 21698', 'O+        ', 'http://www.cox.com/                                                                                                                                                                                                                                            ', 'frostangela', None, 'M         ', '2244 Chavez Meadow\\nNew Cheryl, VT 46404', 'christopherberg@hotmail.com', '1927-02-06', 'Douglas Berry'), ('Theatre manager', 'Saunders, Wilson and George', '432-96-0975', '827 Jones Ridges\\nRyanmouth, IN 21698', 'O+        ', 'http://www.coxa.com/                                                                                                                                                                                                                                           ', 'frostangela', None, 'M         ', '2244 Chavez Meadow\\nNew Cheryl, VT 46404', 'christopherberg@hotmail.com', '1927-02-06', 'Douglas Berry')]\n"
     ]
    }
   ],
   "source": [
    "import os\n",
    "from connect import engine\n",
    "import psycopg2\n",
    "\n",
    "#TODO: 1. Take Data from faker and insert  \n",
    "\n",
    "cur = engine.cursor()\n",
    "\n",
    "cur.execute(\"select * from employee\")\n",
    "record = cur.fetchall()\n",
    "print(record)\n"
   ]
  },
  {
   "cell_type": "code",
   "execution_count": 2,
   "metadata": {},
   "outputs": [],
   "source": [
    "import json\n",
    "import pandas as pd\n",
    "\n",
    "json_string = json.load(open(\"data/frostangela.json\", \"r\"))\n",
    "\n",
    "flattended_data = pd.json_normalize(json_string)\n",
    "flattended_data = flattended_data.explode(\"website\").reset_index(drop=True)"
   ]
  },
  {
   "cell_type": "code",
   "execution_count": 3,
   "metadata": {},
   "outputs": [
    {
     "data": {
      "text/html": [
       "<div>\n",
       "<style scoped>\n",
       "    .dataframe tbody tr th:only-of-type {\n",
       "        vertical-align: middle;\n",
       "    }\n",
       "\n",
       "    .dataframe tbody tr th {\n",
       "        vertical-align: top;\n",
       "    }\n",
       "\n",
       "    .dataframe thead th {\n",
       "        text-align: right;\n",
       "    }\n",
       "</style>\n",
       "<table border=\"1\" class=\"dataframe\">\n",
       "  <thead>\n",
       "    <tr style=\"text-align: right;\">\n",
       "      <th></th>\n",
       "      <th>job</th>\n",
       "      <th>company</th>\n",
       "      <th>ssn</th>\n",
       "      <th>residence</th>\n",
       "      <th>blood_group</th>\n",
       "      <th>website</th>\n",
       "      <th>username</th>\n",
       "      <th>name</th>\n",
       "      <th>sex</th>\n",
       "      <th>address</th>\n",
       "      <th>mail</th>\n",
       "      <th>birthdate</th>\n",
       "    </tr>\n",
       "  </thead>\n",
       "  <tbody>\n",
       "    <tr>\n",
       "      <th>0</th>\n",
       "      <td>Theatre manager</td>\n",
       "      <td>Saunders, Wilson and George</td>\n",
       "      <td>432-96-0975</td>\n",
       "      <td>827 Jones Ridges\\nRyanmouth, IN 21698</td>\n",
       "      <td>O+</td>\n",
       "      <td>http://www.cox.com/</td>\n",
       "      <td>frostangela</td>\n",
       "      <td>Douglas Berry</td>\n",
       "      <td>M</td>\n",
       "      <td>2244 Chavez Meadow\\nNew Cheryl, VT 46404</td>\n",
       "      <td>christopherberg@hotmail.com</td>\n",
       "      <td>1927-02-06</td>\n",
       "    </tr>\n",
       "    <tr>\n",
       "      <th>1</th>\n",
       "      <td>Theatre manager</td>\n",
       "      <td>Saunders, Wilson and George</td>\n",
       "      <td>432-96-0975</td>\n",
       "      <td>827 Jones Ridges\\nRyanmouth, IN 21698</td>\n",
       "      <td>O+</td>\n",
       "      <td>http://www.coxa.com/</td>\n",
       "      <td>frostangela</td>\n",
       "      <td>Douglas Berry</td>\n",
       "      <td>M</td>\n",
       "      <td>2244 Chavez Meadow\\nNew Cheryl, VT 46404</td>\n",
       "      <td>christopherberg@hotmail.com</td>\n",
       "      <td>1927-02-06</td>\n",
       "    </tr>\n",
       "  </tbody>\n",
       "</table>\n",
       "</div>"
      ],
      "text/plain": [
       "               job                      company          ssn  \\\n",
       "0  Theatre manager  Saunders, Wilson and George  432-96-0975   \n",
       "1  Theatre manager  Saunders, Wilson and George  432-96-0975   \n",
       "\n",
       "                               residence blood_group               website  \\\n",
       "0  827 Jones Ridges\\nRyanmouth, IN 21698          O+   http://www.cox.com/   \n",
       "1  827 Jones Ridges\\nRyanmouth, IN 21698          O+  http://www.coxa.com/   \n",
       "\n",
       "      username           name sex                                   address  \\\n",
       "0  frostangela  Douglas Berry   M  2244 Chavez Meadow\\nNew Cheryl, VT 46404   \n",
       "1  frostangela  Douglas Berry   M  2244 Chavez Meadow\\nNew Cheryl, VT 46404   \n",
       "\n",
       "                          mail   birthdate  \n",
       "0  christopherberg@hotmail.com  1927-02-06  \n",
       "1  christopherberg@hotmail.com  1927-02-06  "
      ]
     },
     "execution_count": 3,
     "metadata": {},
     "output_type": "execute_result"
    }
   ],
   "source": [
    "flattended_data"
   ]
  },
  {
   "cell_type": "code",
   "execution_count": 4,
   "metadata": {},
   "outputs": [],
   "source": [
    "# Create a list of tupples from the dataframe values\n",
    "tuples = [tuple(x) for x in flattended_data.to_numpy()]\n",
    "# Comma-separated dataframe columns\n",
    "cols = ','.join(list(flattended_data.columns))\n",
    "# SQL quert to execute\n",
    "query  = \"INSERT INTO %s(%s) VALUES(%%s,%%s,%%s,%%s,%%s,%%s,%%s,%%s,%%s,%%s,%%s,%%s)\" % ('employee', cols)"
   ]
  },
  {
   "cell_type": "code",
   "execution_count": 5,
   "metadata": {},
   "outputs": [
    {
     "data": {
      "text/plain": [
       "'INSERT INTO employee(job,company,ssn,residence,blood_group,website,username,name,sex,address,mail,birthdate) VALUES(%s,%s,%s,%s,%s,%s,%s,%s,%s,%s,%s,%s)'"
      ]
     },
     "execution_count": 5,
     "metadata": {},
     "output_type": "execute_result"
    }
   ],
   "source": [
    "query"
   ]
  },
  {
   "cell_type": "code",
   "execution_count": 5,
   "metadata": {},
   "outputs": [
    {
     "name": "stdout",
     "output_type": "stream",
     "text": [
      "execute_many() done\n"
     ]
    }
   ],
   "source": [
    "try:\n",
    "    cur.executemany(query, tuples)\n",
    "    engine.commit()\n",
    "except (Exception, psycopg2.DatabaseError) as error:\n",
    "    print(\"Error: %s\" % error)\n",
    "    engine.rollback()\n",
    "    cur.close()\n",
    "print(\"execute_many() done\")"
   ]
  },
  {
   "cell_type": "code",
   "execution_count": null,
   "metadata": {},
   "outputs": [],
   "source": []
  }
 ],
 "metadata": {
  "kernelspec": {
   "display_name": "Python 3.10.1 ('env': venv)",
   "language": "python",
   "name": "python3"
  },
  "language_info": {
   "codemirror_mode": {
    "name": "ipython",
    "version": 3
   },
   "file_extension": ".py",
   "mimetype": "text/x-python",
   "name": "python",
   "nbconvert_exporter": "python",
   "pygments_lexer": "ipython3",
   "version": "3.10.1"
  },
  "orig_nbformat": 4,
  "vscode": {
   "interpreter": {
    "hash": "764f3123db0d75fe02d09ef0e8774db6c1c3cc3fb263204ae7cb104bb4a19179"
   }
  }
 },
 "nbformat": 4,
 "nbformat_minor": 2
}
